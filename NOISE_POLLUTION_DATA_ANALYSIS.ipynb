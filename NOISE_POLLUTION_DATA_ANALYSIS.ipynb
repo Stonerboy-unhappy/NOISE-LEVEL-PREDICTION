{
 "cells": [
  {
   "cell_type": "code",
   "execution_count": 2,
   "metadata": {
    "id": "E5pMWi3K5dRI"
   },
   "outputs": [],
   "source": [
    "import pandas as pd\n",
    "import numpy as np\n",
    "import matplotlib.pyplot as plt\n",
    "import seaborn as sns\n",
    "import plotly.express as px"
   ]
  },
  {
   "cell_type": "code",
   "execution_count": 3,
   "metadata": {
    "id": "8aWdJXoAFdnl"
   },
   "outputs": [],
   "source": [
    "sns.set_style('white')"
   ]
  },
  {
   "cell_type": "code",
   "execution_count": 4,
   "metadata": {
    "id": "HHSlvyK3dLay"
   },
   "outputs": [],
   "source": [
    "pd.set_option('display.max_rows',None)"
   ]
  },
  {
   "cell_type": "code",
   "execution_count": 5,
   "metadata": {
    "id": "JFfWsf-B5-DM"
   },
   "outputs": [],
   "source": [
    "noise_df_in = pd.read_csv('noise_df_in.csv')"
   ]
  },
  {
   "cell_type": "code",
   "execution_count": null,
   "metadata": {
    "id": "etQ0LL3tv2Ft"
   },
   "outputs": [],
   "source": [
    "area_df = pd.read_csv('stations.csv')"
   ]
  },
  {
   "cell_type": "code",
   "execution_count": 6,
   "metadata": {
    "id": "CWDQ26tNW-04"
   },
   "outputs": [],
   "source": [
    "noise_df_in.dropna(inplace=True)"
   ]
  },
  {
   "cell_type": "code",
   "execution_count": null,
   "metadata": {
    "id": "wCHPxY4d_jf3"
   },
   "outputs": [],
   "source": [
    "# noise_df_in = noise_df.reset_index()"
   ]
  },
  {
   "cell_type": "code",
   "execution_count": 16,
   "metadata": {
    "id": "cAaPF-MnAzdF"
   },
   "outputs": [
    {
     "data": {
      "text/html": [
       "<div>\n",
       "<style scoped>\n",
       "    .dataframe tbody tr th:only-of-type {\n",
       "        vertical-align: middle;\n",
       "    }\n",
       "\n",
       "    .dataframe tbody tr th {\n",
       "        vertical-align: top;\n",
       "    }\n",
       "\n",
       "    .dataframe thead th {\n",
       "        text-align: right;\n",
       "    }\n",
       "</style>\n",
       "<table border=\"1\" class=\"dataframe\">\n",
       "  <thead>\n",
       "    <tr style=\"text-align: right;\">\n",
       "      <th></th>\n",
       "      <th>Unnamed: 0</th>\n",
       "      <th>Station</th>\n",
       "      <th>Year</th>\n",
       "      <th>Month</th>\n",
       "      <th>Day</th>\n",
       "      <th>Night</th>\n",
       "      <th>DayLimit</th>\n",
       "      <th>NightLimit</th>\n",
       "      <th>Day_Label</th>\n",
       "      <th>Night_Label</th>\n",
       "      <th>Area_Type</th>\n",
       "    </tr>\n",
       "  </thead>\n",
       "  <tbody>\n",
       "    <tr>\n",
       "      <th>0</th>\n",
       "      <td>0</td>\n",
       "      <td>BEN01</td>\n",
       "      <td>2011</td>\n",
       "      <td>2</td>\n",
       "      <td>66.0</td>\n",
       "      <td>56.0</td>\n",
       "      <td>55</td>\n",
       "      <td>45</td>\n",
       "      <td>High</td>\n",
       "      <td>High</td>\n",
       "      <td>Residential</td>\n",
       "    </tr>\n",
       "    <tr>\n",
       "      <th>1</th>\n",
       "      <td>1</td>\n",
       "      <td>BEN01</td>\n",
       "      <td>2011</td>\n",
       "      <td>3</td>\n",
       "      <td>66.0</td>\n",
       "      <td>58.0</td>\n",
       "      <td>55</td>\n",
       "      <td>45</td>\n",
       "      <td>High</td>\n",
       "      <td>High</td>\n",
       "      <td>Residential</td>\n",
       "    </tr>\n",
       "    <tr>\n",
       "      <th>2</th>\n",
       "      <td>2</td>\n",
       "      <td>BEN01</td>\n",
       "      <td>2011</td>\n",
       "      <td>4</td>\n",
       "      <td>66.0</td>\n",
       "      <td>57.0</td>\n",
       "      <td>55</td>\n",
       "      <td>45</td>\n",
       "      <td>High</td>\n",
       "      <td>High</td>\n",
       "      <td>Residential</td>\n",
       "    </tr>\n",
       "    <tr>\n",
       "      <th>3</th>\n",
       "      <td>3</td>\n",
       "      <td>BEN01</td>\n",
       "      <td>2011</td>\n",
       "      <td>5</td>\n",
       "      <td>66.0</td>\n",
       "      <td>56.0</td>\n",
       "      <td>55</td>\n",
       "      <td>45</td>\n",
       "      <td>High</td>\n",
       "      <td>High</td>\n",
       "      <td>Residential</td>\n",
       "    </tr>\n",
       "    <tr>\n",
       "      <th>4</th>\n",
       "      <td>4</td>\n",
       "      <td>BEN01</td>\n",
       "      <td>2011</td>\n",
       "      <td>6</td>\n",
       "      <td>67.0</td>\n",
       "      <td>57.0</td>\n",
       "      <td>55</td>\n",
       "      <td>45</td>\n",
       "      <td>High</td>\n",
       "      <td>High</td>\n",
       "      <td>Residential</td>\n",
       "    </tr>\n",
       "    <tr>\n",
       "      <th>5</th>\n",
       "      <td>5</td>\n",
       "      <td>BEN01</td>\n",
       "      <td>2011</td>\n",
       "      <td>7</td>\n",
       "      <td>67.0</td>\n",
       "      <td>57.0</td>\n",
       "      <td>55</td>\n",
       "      <td>45</td>\n",
       "      <td>High</td>\n",
       "      <td>High</td>\n",
       "      <td>Residential</td>\n",
       "    </tr>\n",
       "    <tr>\n",
       "      <th>6</th>\n",
       "      <td>6</td>\n",
       "      <td>BEN01</td>\n",
       "      <td>2011</td>\n",
       "      <td>8</td>\n",
       "      <td>67.0</td>\n",
       "      <td>59.0</td>\n",
       "      <td>55</td>\n",
       "      <td>45</td>\n",
       "      <td>High</td>\n",
       "      <td>High</td>\n",
       "      <td>Residential</td>\n",
       "    </tr>\n",
       "    <tr>\n",
       "      <th>7</th>\n",
       "      <td>7</td>\n",
       "      <td>BEN01</td>\n",
       "      <td>2011</td>\n",
       "      <td>9</td>\n",
       "      <td>66.0</td>\n",
       "      <td>56.0</td>\n",
       "      <td>55</td>\n",
       "      <td>45</td>\n",
       "      <td>High</td>\n",
       "      <td>High</td>\n",
       "      <td>Residential</td>\n",
       "    </tr>\n",
       "    <tr>\n",
       "      <th>8</th>\n",
       "      <td>8</td>\n",
       "      <td>BEN01</td>\n",
       "      <td>2011</td>\n",
       "      <td>10</td>\n",
       "      <td>66.0</td>\n",
       "      <td>56.0</td>\n",
       "      <td>55</td>\n",
       "      <td>45</td>\n",
       "      <td>High</td>\n",
       "      <td>High</td>\n",
       "      <td>Residential</td>\n",
       "    </tr>\n",
       "    <tr>\n",
       "      <th>9</th>\n",
       "      <td>9</td>\n",
       "      <td>BEN01</td>\n",
       "      <td>2011</td>\n",
       "      <td>11</td>\n",
       "      <td>66.0</td>\n",
       "      <td>56.0</td>\n",
       "      <td>55</td>\n",
       "      <td>45</td>\n",
       "      <td>High</td>\n",
       "      <td>High</td>\n",
       "      <td>Residential</td>\n",
       "    </tr>\n",
       "  </tbody>\n",
       "</table>\n",
       "</div>"
      ],
      "text/plain": [
       "   Unnamed: 0 Station  Year  Month   Day  Night  DayLimit  NightLimit  \\\n",
       "0           0   BEN01  2011      2  66.0   56.0        55          45   \n",
       "1           1   BEN01  2011      3  66.0   58.0        55          45   \n",
       "2           2   BEN01  2011      4  66.0   57.0        55          45   \n",
       "3           3   BEN01  2011      5  66.0   56.0        55          45   \n",
       "4           4   BEN01  2011      6  67.0   57.0        55          45   \n",
       "5           5   BEN01  2011      7  67.0   57.0        55          45   \n",
       "6           6   BEN01  2011      8  67.0   59.0        55          45   \n",
       "7           7   BEN01  2011      9  66.0   56.0        55          45   \n",
       "8           8   BEN01  2011     10  66.0   56.0        55          45   \n",
       "9           9   BEN01  2011     11  66.0   56.0        55          45   \n",
       "\n",
       "  Day_Label Night_Label    Area_Type  \n",
       "0      High        High  Residential  \n",
       "1      High        High  Residential  \n",
       "2      High        High  Residential  \n",
       "3      High        High  Residential  \n",
       "4      High        High  Residential  \n",
       "5      High        High  Residential  \n",
       "6      High        High  Residential  \n",
       "7      High        High  Residential  \n",
       "8      High        High  Residential  \n",
       "9      High        High  Residential  "
      ]
     },
     "execution_count": 16,
     "metadata": {},
     "output_type": "execute_result"
    }
   ],
   "source": [
    "noise_df_in.head(10)"
   ]
  },
  {
   "cell_type": "code",
   "execution_count": null,
   "metadata": {
    "id": "FFCatokxGlLb"
   },
   "outputs": [],
   "source": [
    "# noise_df_in.to_csv('noise_df_in.csv'"
   ]
  },
  {
   "cell_type": "code",
   "execution_count": 9,
   "metadata": {
    "id": "NjK9pyCuwDoV"
   },
   "outputs": [],
   "source": [
    "# area_df.head()"
   ]
  },
  {
   "cell_type": "code",
   "execution_count": 10,
   "metadata": {
    "id": "KzaYDbjs-dlr"
   },
   "outputs": [
    {
     "data": {
      "text/plain": [
       "4995"
      ]
     },
     "execution_count": 10,
     "metadata": {},
     "output_type": "execute_result"
    }
   ],
   "source": [
    "len(noise_df_in)"
   ]
  },
  {
   "cell_type": "code",
   "execution_count": 11,
   "metadata": {
    "id": "PPNIYJPZ-VRk"
   },
   "outputs": [],
   "source": [
    "noise_df_in = noise_df_in.reset_index()"
   ]
  },
  {
   "cell_type": "code",
   "execution_count": 12,
   "metadata": {
    "id": "mv9wb4bgF7yF"
   },
   "outputs": [],
   "source": [
    "noise_df_in.drop('index',axis=1,inplace=True)"
   ]
  },
  {
   "cell_type": "code",
   "execution_count": 13,
   "metadata": {
    "id": "tpc5ynfjLgWK"
   },
   "outputs": [],
   "source": [
    "noise_df_in.loc[noise_df_in['Day'] <= noise_df_in['DayLimit'], 'Day_Label'] = 'Low'\n",
    "noise_df_in.loc[noise_df_in['Day'] >= noise_df_in['DayLimit'], 'Day_Label'] = 'High'"
   ]
  },
  {
   "cell_type": "code",
   "execution_count": 14,
   "metadata": {
    "id": "JCZXffwDMJcc"
   },
   "outputs": [],
   "source": [
    "noise_df_in.loc[noise_df_in['Night'] <= noise_df_in['NightLimit'], 'Night_Label'] = 'Low'\n",
    "noise_df_in.loc[noise_df_in['Night'] >= noise_df_in['NightLimit'], 'Night_Label'] = 'High'"
   ]
  },
  {
   "cell_type": "code",
   "execution_count": 15,
   "metadata": {
    "id": "PwocH2JF1EvF"
   },
   "outputs": [],
   "source": [
    "noise_df_in.loc[noise_df_in['Station'] == 'BEN01', 'Area_Type'] = 'Residential'\n",
    "noise_df_in.loc[noise_df_in['Station'] == 'BEN02', 'Area_Type'] = 'Commercial'\n",
    "noise_df_in.loc[noise_df_in['Station'] == 'BEN03', 'Area_Type'] = 'Residential'\n",
    "noise_df_in.loc[noise_df_in['Station'] == 'BEN04', 'Area_Type'] = 'Commercial'\n",
    "noise_df_in.loc[noise_df_in['Station'] == 'BEN05', 'Area_Type'] = 'Industrial'\n",
    "noise_df_in.loc[noise_df_in['Station'] == 'BEN06', 'Area_Type'] = 'Commercial'\n",
    "noise_df_in.loc[noise_df_in['Station'] == 'BEN07', 'Area_Type'] = 'Silence'\n",
    "noise_df_in.loc[noise_df_in['Station'] == 'BEN08', 'Area_Type'] = 'Industrial'\n",
    "noise_df_in.loc[noise_df_in['Station'] == 'BEN09', 'Area_Type'] = 'Silence'\n",
    "noise_df_in.loc[noise_df_in['Station'] == 'BEN10', 'Area_Type'] = 'Residential'"
   ]
  },
  {
   "cell_type": "code",
   "execution_count": 17,
   "metadata": {
    "id": "P73AMWmiBbFD"
   },
   "outputs": [],
   "source": [
    "noise_df_in.loc[noise_df_in['Station'] == 'DEL01', 'Area_Type'] = 'Silence'\n",
    "noise_df_in.loc[noise_df_in['Station'] == 'DEL02', 'Area_Type'] = 'Commercial'\n",
    "noise_df_in.loc[noise_df_in['Station'] == 'DEL03', 'Area_Type'] = 'Silence'\n",
    "noise_df_in.loc[noise_df_in['Station'] == 'DEL04', 'Area_Type'] = 'Commercial'\n",
    "noise_df_in.loc[noise_df_in['Station'] == 'DEL05', 'Area_Type'] = 'Silence'\n",
    "noise_df_in.loc[noise_df_in['Station'] == 'DEL06', 'Area_Type'] = 'Commercial'\n",
    "noise_df_in.loc[noise_df_in['Station'] == 'DEL07', 'Area_Type'] = 'Silence'\n",
    "noise_df_in.loc[noise_df_in['Station'] == 'DEL08', 'Area_Type'] = 'Commercial'\n",
    "noise_df_in.loc[noise_df_in['Station'] == 'DEL09', 'Area_Type'] = 'Silence'\n",
    "noise_df_in.loc[noise_df_in['Station'] == 'DEL10', 'Area_Type'] = 'Residential'"
   ]
  },
  {
   "cell_type": "code",
   "execution_count": 18,
   "metadata": {
    "id": "pGHE7RBqByOc"
   },
   "outputs": [],
   "source": [
    "noise_df_in.loc[noise_df_in['Station'] == 'CHE01', 'Area_Type'] = 'Silence'\n",
    "noise_df_in.loc[noise_df_in['Station'] == 'CHE02', 'Area_Type'] = 'Industrial'\n",
    "noise_df_in.loc[noise_df_in['Station'] == 'CHE03', 'Area_Type'] = 'Commercial'\n",
    "noise_df_in.loc[noise_df_in['Station'] == 'CHE04', 'Area_Type'] = 'Commercial'\n",
    "noise_df_in.loc[noise_df_in['Station'] == 'CHE05', 'Area_Type'] = 'Residential'\n",
    "noise_df_in.loc[noise_df_in['Station'] == 'CHE06', 'Area_Type'] = 'Commercial'\n",
    "noise_df_in.loc[noise_df_in['Station'] == 'CHE07', 'Area_Type'] = 'Residential'\n",
    "noise_df_in.loc[noise_df_in['Station'] == 'CHE08', 'Area_Type'] = 'Commercial'\n",
    "noise_df_in.loc[noise_df_in['Station'] == 'CHE09', 'Area_Type'] = 'Silence'\n",
    "noise_df_in.loc[noise_df_in['Station'] == 'CHE10', 'Area_Type'] = 'Residential'"
   ]
  },
  {
   "cell_type": "code",
   "execution_count": 19,
   "metadata": {
    "id": "D65eoyF-CNMf"
   },
   "outputs": [],
   "source": [
    "noise_df_in.loc[noise_df_in['Station'] == 'HYD01', 'Area_Type'] = 'Commercial'\n",
    "noise_df_in.loc[noise_df_in['Station'] == 'HYD02', 'Area_Type'] = 'Industrial'\n",
    "noise_df_in.loc[noise_df_in['Station'] == 'HYD03', 'Area_Type'] = 'Residential'\n",
    "noise_df_in.loc[noise_df_in['Station'] == 'HYD04', 'Area_Type'] = 'Silence'\n",
    "noise_df_in.loc[noise_df_in['Station'] == 'HYD05', 'Area_Type'] = 'Commercial'\n",
    "noise_df_in.loc[noise_df_in['Station'] == 'HYD06', 'Area_Type'] = 'Residential'\n",
    "noise_df_in.loc[noise_df_in['Station'] == 'HYD07', 'Area_Type'] = 'Industrial'\n",
    "noise_df_in.loc[noise_df_in['Station'] == 'HYD08', 'Area_Type'] = 'Silence'\n",
    "noise_df_in.loc[noise_df_in['Station'] == 'HYD09', 'Area_Type'] = 'Commercial'\n",
    "noise_df_in.loc[noise_df_in['Station'] == 'HYD10', 'Area_Type'] = 'Commercial'"
   ]
  },
  {
   "cell_type": "code",
   "execution_count": 20,
   "metadata": {
    "id": "Wb0OeMGZCxeG"
   },
   "outputs": [],
   "source": [
    "noise_df_in.loc[noise_df_in['Station'] == 'KOL01', 'Area_Type'] = 'Industrial'\n",
    "noise_df_in.loc[noise_df_in['Station'] == 'KOL02', 'Area_Type'] = 'Commercial'\n",
    "noise_df_in.loc[noise_df_in['Station'] == 'KOL03', 'Area_Type'] = 'Residential'\n",
    "noise_df_in.loc[noise_df_in['Station'] == 'KOL04', 'Area_Type'] = 'Silence'\n",
    "noise_df_in.loc[noise_df_in['Station'] == 'KOL05', 'Area_Type'] = 'Commercial'\n",
    "noise_df_in.loc[noise_df_in['Station'] == 'KOL06', 'Area_Type'] = 'Residential'\n",
    "noise_df_in.loc[noise_df_in['Station'] == 'KOL07', 'Area_Type'] = 'Silence'\n",
    "noise_df_in.loc[noise_df_in['Station'] == 'KOL08', 'Area_Type'] = 'Commercial'\n",
    "noise_df_in.loc[noise_df_in['Station'] == 'KOL09', 'Area_Type'] = 'Residential'\n",
    "noise_df_in.loc[noise_df_in['Station'] == 'KOL10', 'Area_Type'] = 'Industrial'"
   ]
  },
  {
   "cell_type": "code",
   "execution_count": 21,
   "metadata": {
    "id": "bOU3joAUDH85"
   },
   "outputs": [],
   "source": [
    "noise_df_in.loc[noise_df_in['Station'] == 'LUC01', 'Area_Type'] = 'Industrial'\n",
    "noise_df_in.loc[noise_df_in['Station'] == 'LUC02', 'Area_Type'] = 'Commercial'\n",
    "noise_df_in.loc[noise_df_in['Station'] == 'LUC03', 'Area_Type'] = 'Silence'\n",
    "noise_df_in.loc[noise_df_in['Station'] == 'LUC04', 'Area_Type'] = 'Residential'\n",
    "noise_df_in.loc[noise_df_in['Station'] == 'LUC05', 'Area_Type'] = 'Silence'\n",
    "noise_df_in.loc[noise_df_in['Station'] == 'LUC06', 'Area_Type'] = 'Industrial'\n",
    "noise_df_in.loc[noise_df_in['Station'] == 'LUC07', 'Area_Type'] = 'Silence'\n",
    "noise_df_in.loc[noise_df_in['Station'] == 'LUC08', 'Area_Type'] = 'Commercial'\n",
    "noise_df_in.loc[noise_df_in['Station'] == 'LUC09', 'Area_Type'] = 'Commercial'\n",
    "noise_df_in.loc[noise_df_in['Station'] == 'LUC10', 'Area_Type'] = 'Commercial'"
   ]
  },
  {
   "cell_type": "code",
   "execution_count": 22,
   "metadata": {
    "id": "o3sZR8P1DcZl"
   },
   "outputs": [],
   "source": [
    "noise_df_in.loc[noise_df_in['Station'] == 'MUM01', 'Area_Type'] = 'Silence'\n",
    "noise_df_in.loc[noise_df_in['Station'] == 'MUM02', 'Area_Type'] = 'Commercial'\n",
    "noise_df_in.loc[noise_df_in['Station'] == 'MUM03', 'Area_Type'] = 'Commercial'\n",
    "noise_df_in.loc[noise_df_in['Station'] == 'MUM04', 'Area_Type'] = 'Commercial'\n",
    "noise_df_in.loc[noise_df_in['Station'] == 'MUM05', 'Area_Type'] = 'Silence'\n",
    "noise_df_in.loc[noise_df_in['Station'] == 'MUM06', 'Area_Type'] = 'Industrial'\n",
    "noise_df_in.loc[noise_df_in['Station'] == 'MUM07', 'Area_Type'] = 'Industrial'\n",
    "noise_df_in.loc[noise_df_in['Station'] == 'MUM08', 'Area_Type'] = 'Residential'\n",
    "noise_df_in.loc[noise_df_in['Station'] == 'MUM09', 'Area_Type'] = 'Industrial'\n",
    "noise_df_in.loc[noise_df_in['Station'] == 'MUM10', 'Area_Type'] = 'Commercial'"
   ]
  },
  {
   "cell_type": "code",
   "execution_count": null,
   "metadata": {
    "id": "OuvVWd_u0QLq"
   },
   "outputs": [],
   "source": [
    "stations = noise_df_in['Station'].unique()"
   ]
  },
  {
   "cell_type": "code",
   "execution_count": null,
   "metadata": {
    "id": "FTS_zX5h0U73"
   },
   "outputs": [],
   "source": [
    "stations"
   ]
  },
  {
   "cell_type": "code",
   "execution_count": null,
   "metadata": {
    "id": "StuyLFy29R_r"
   },
   "outputs": [],
   "source": [
    "noise_df_in.describe().round(2)"
   ]
  },
  {
   "cell_type": "code",
   "execution_count": null,
   "metadata": {
    "id": "SoHcB_Rnj1MS"
   },
   "outputs": [],
   "source": [
    "year = noise_df_in['Year'].unique()"
   ]
  },
  {
   "cell_type": "code",
   "execution_count": null,
   "metadata": {
    "id": "3Dxqd23Dwonx"
   },
   "outputs": [],
   "source": [
    "month = noise_df_in['Month'].unique()"
   ]
  },
  {
   "cell_type": "code",
   "execution_count": null,
   "metadata": {
    "id": "fE0jhfUmZSnw"
   },
   "outputs": [],
   "source": [
    "d = []\n",
    "for i in range(0,len(stations)):\n",
    "  for j in range(0,len(year)):\n",
    "    max = noise_df_in[(noise_df_in['Station'] == stations[i]) & (noise_df_in['Year'] == year[j])]['Night'].max()\n",
    "    min = noise_df_in[(noise_df_in['Station'] == stations[i]) & (noise_df_in['Year'] == year[j])]['Night'].min()\n",
    "    d.append({\n",
    "        'Station' : stations[i],\n",
    "        'Year' : year[j],\n",
    "        'Min' : min,\n",
    "        'Max' : max\n",
    "    })\n",
    "    pd.DataFrame(d)\n",
    "    # print(stations[i],a)"
   ]
  },
  {
   "cell_type": "code",
   "execution_count": null,
   "metadata": {
    "id": "ojdnhxrzb1-G"
   },
   "outputs": [],
   "source": [
    "night_mm = pd.DataFrame(d)\n",
    "night_mm.head()"
   ]
  },
  {
   "cell_type": "code",
   "execution_count": null,
   "metadata": {
    "id": "pxkRil3eXFie"
   },
   "outputs": [],
   "source": [
    "n = []\n",
    "for i in range(0,len(stations)):\n",
    "  for j in range(0,len(year)):\n",
    "      max = noise_df_in[(noise_df_in['Station'] == stations[i]) & (noise_df_in['Year'] == year[j])]['Day'].max()\n",
    "      min = noise_df_in[(noise_df_in['Station'] == stations[i]) & (noise_df_in['Year'] == year[j])]['Day'].min()\n",
    "      n.append({\n",
    "          'Station' : stations[i],\n",
    "          'Year' : year[j],\n",
    "          'Min' : min,\n",
    "          'Max' : max\n",
    "      })\n",
    "      pd.DataFrame(n)"
   ]
  },
  {
   "cell_type": "code",
   "execution_count": null,
   "metadata": {
    "id": "QMKVIZhmXNAa"
   },
   "outputs": [],
   "source": [
    "day_mm = pd.DataFrame(n).dropna()\n",
    "day_mm.reset_index(inplace=True)\n",
    "day_mm.head()"
   ]
  },
  {
   "cell_type": "code",
   "execution_count": null,
   "metadata": {
    "id": "93F317biAFnV"
   },
   "outputs": [],
   "source": [
    "m = []\n",
    "for i in range(0,len(noise_df_in)):\n",
    "  for j in range(0,len(day_mm)):\n",
    "    if (noise_df_in['Station'][i] == day_mm['Station'][j] and noise_df_in['Year'][i] == day_mm['Year'][j] and noise_df_in['Day'][i] == day_mm['Max'][j]):\n",
    "      month = noise_df_in['Month'][i]\n",
    "      m.append({\n",
    "          'Station' : noise_df_in['Station'][i],\n",
    "          'Year' : noise_df_in['Year'][i],\n",
    "          'Month' : month,\n",
    "          'Day' : noise_df_in['Day'][i]\n",
    "      })\n",
    "      pd.DataFrame(m)"
   ]
  },
  {
   "cell_type": "code",
   "execution_count": null,
   "metadata": {
    "id": "LaPFJcIIJvQp"
   },
   "outputs": [],
   "source": [
    "pd.DataFrame(m).dropna()"
   ]
  },
  {
   "cell_type": "code",
   "execution_count": null,
   "metadata": {
    "id": "c2XQqrBbYJXH"
   },
   "outputs": [],
   "source": [
    "day_mm_ben01 = day_mm[day_mm['Station'] == 'BEN01']"
   ]
  },
  {
   "cell_type": "code",
   "execution_count": null,
   "metadata": {
    "id": "8RXfqUhpY6zK"
   },
   "outputs": [],
   "source": [
    "sns.barplot(day_mm_ben01,x='Year',y='Max',palette='magma')"
   ]
  },
  {
   "cell_type": "code",
   "execution_count": null,
   "metadata": {
    "id": "FQSdEjSGZfCT"
   },
   "outputs": [],
   "source": [
    "px.bar(day_mm_ben01,x='Year',y='Min',text='Min',color='Min')"
   ]
  },
  {
   "cell_type": "code",
   "execution_count": null,
   "metadata": {
    "id": "ZBZ3mSnQIhEe"
   },
   "outputs": [],
   "source": [
    "noise_df_in[noise_df_in['Area_Type'] == 'Industrial']"
   ]
  },
  {
   "cell_type": "code",
   "execution_count": null,
   "metadata": {
    "id": "H8QKMwnhmNnu"
   },
   "outputs": [],
   "source": [
    "day_mm.loc[day_mm['Max'] >= 75, ['Station','Year','Max','Min']]"
   ]
  },
  {
   "cell_type": "code",
   "execution_count": null,
   "metadata": {
    "id": "_nvDizo6vlK9"
   },
   "outputs": [],
   "source": [
    "day_mm"
   ]
  },
  {
   "cell_type": "code",
   "execution_count": null,
   "metadata": {
    "id": "bcxWOYl5sx1c"
   },
   "outputs": [],
   "source": [
    "noise_df_in.loc[noise_df_in['Day'] >= 75, ['Station','Year','Day']]"
   ]
  },
  {
   "cell_type": "code",
   "execution_count": null,
   "metadata": {
    "id": "Xv1OpvmovQgy"
   },
   "outputs": [],
   "source": [
    "for i in range(0,len(stations)):\n",
    "  for j in range(0,len(year)):\n",
    "    for k in range(0,len(day_mm)):\n",
    "      for l in range(0,len(noise_df_in)):\n",
    "        if noise_df_in[(noise_df_in['Station'] == stations[i]) & (noise_df_in['Year'] == year[j]) & (day_mm['Min'] == day_mm[k])]:\n",
    "          print(noise_df_in['Month'][l])"
   ]
  },
  {
   "cell_type": "markdown",
   "metadata": {
    "id": "ZmZfDgBZsIJ-"
   },
   "source": [
    "# PLOTTING"
   ]
  },
  {
   "cell_type": "code",
   "execution_count": 23,
   "metadata": {
    "id": "t89vlU09U1Fz"
   },
   "outputs": [
    {
     "name": "stderr",
     "output_type": "stream",
     "text": [
      "C:\\Users\\Sankha Mondal\\anaconda3\\Lib\\site-packages\\seaborn\\_oldcore.py:1119: FutureWarning: use_inf_as_na option is deprecated and will be removed in a future version. Convert inf values to NaN before operating instead.\n",
      "  with pd.option_context('mode.use_inf_as_na', True):\n",
      "C:\\Users\\Sankha Mondal\\anaconda3\\Lib\\site-packages\\seaborn\\_oldcore.py:1119: FutureWarning: use_inf_as_na option is deprecated and will be removed in a future version. Convert inf values to NaN before operating instead.\n",
      "  with pd.option_context('mode.use_inf_as_na', True):\n"
     ]
    },
    {
     "data": {
      "text/plain": [
       "<seaborn.axisgrid.JointGrid at 0x1faf4570090>"
      ]
     },
     "execution_count": 23,
     "metadata": {},
     "output_type": "execute_result"
    },
    {
     "data": {
      "image/png": "[encoded data removed]",
      "text/plain": [
       "<Figure size 600x600 with 3 Axes>"
      ]
     },
     "metadata": {},
     "output_type": "display_data"
    }
   ],
   "source": [
    "sns.jointplot(noise_df_in,x='Day',y='Night',hue='Night_Label',palette='magma')"
   ]
  },
  {
   "cell_type": "code",
   "execution_count": 24,
   "metadata": {
    "id": "VFAQdWmTMXLY"
   },
   "outputs": [
    {
     "data": {
      "text/plain": [
       "<Axes: xlabel='Night_Label', ylabel='count'>"
      ]
     },
     "execution_count": 24,
     "metadata": {},
     "output_type": "execute_result"
    },
    {
     "data": {
      "image/png": "[encoded data removed]",
      "text/plain": [
       "<Figure size 640x480 with 1 Axes>"
      ]
     },
     "metadata": {},
     "output_type": "display_data"
    }
   ],
   "source": [
    "sns.countplot(noise_df_in,x='Night_Label',palette='magma')"
   ]
  },
  {
   "cell_type": "code",
   "execution_count": 25,
   "metadata": {
    "id": "MSLm7vTE_42v"
   },
   "outputs": [
    {
     "data": {
      "text/plain": [
       "<Axes: xlabel='Day_Label', ylabel='count'>"
      ]
     },
     "execution_count": 25,
     "metadata": {},
     "output_type": "execute_result"
    },
    {
     "data": {
      "image/png": "[encoded data removed]",
      "text/plain": [
       "<Figure size 640x480 with 1 Axes>"
      ]
     },
     "metadata": {},
     "output_type": "display_data"
    }
   ],
   "source": [
    "sns.countplot(noise_df_in,x='Day_Label')"
   ]
  },
  {
   "cell_type": "code",
   "execution_count": 26,
   "metadata": {
    "id": "ZT72mc87sKfL"
   },
   "outputs": [
    {
     "name": "stderr",
     "output_type": "stream",
     "text": [
      "C:\\Users\\Sankha Mondal\\anaconda3\\Lib\\site-packages\\seaborn\\_oldcore.py:1119: FutureWarning: use_inf_as_na option is deprecated and will be removed in a future version. Convert inf values to NaN before operating instead.\n",
      "  with pd.option_context('mode.use_inf_as_na', True):\n",
      "C:\\Users\\Sankha Mondal\\anaconda3\\Lib\\site-packages\\seaborn\\_oldcore.py:1119: FutureWarning: use_inf_as_na option is deprecated and will be removed in a future version. Convert inf values to NaN before operating instead.\n",
      "  with pd.option_context('mode.use_inf_as_na', True):\n"
     ]
    },
    {
     "data": {
      "text/plain": [
       "<seaborn.axisgrid.JointGrid at 0x1faf9112d10>"
      ]
     },
     "execution_count": 26,
     "metadata": {},
     "output_type": "execute_result"
    },
    {
     "data": {
      "image/png": "[encoded data removed]",
      "text/plain": [
       "<Figure size 600x600 with 3 Axes>"
      ]
     },
     "metadata": {},
     "output_type": "display_data"
    }
   ],
   "source": [
    "sns.jointplot(noise_df_in,x='Day',y='Night',hue='Day_Label',palette='magma')"
   ]
  },
  {
   "cell_type": "code",
   "execution_count": 27,
   "metadata": {
    "id": "tkY2Kei0vK35"
   },
   "outputs": [
    {
     "name": "stderr",
     "output_type": "stream",
     "text": [
      "C:\\Users\\Sankha Mondal\\anaconda3\\Lib\\site-packages\\seaborn\\_oldcore.py:1119: FutureWarning: use_inf_as_na option is deprecated and will be removed in a future version. Convert inf values to NaN before operating instead.\n",
      "  with pd.option_context('mode.use_inf_as_na', True):\n"
     ]
    },
    {
     "data": {
      "text/plain": [
       "<Axes: xlabel='Day', ylabel='Density'>"
      ]
     },
     "execution_count": 27,
     "metadata": {},
     "output_type": "execute_result"
    },
    {
     "data": {
      "image/png": "[encoded data removed]",
      "text/plain": [
       "<Figure size 640x480 with 1 Axes>"
      ]
     },
     "metadata": {},
     "output_type": "display_data"
    }
   ],
   "source": [
    "sns.kdeplot(noise_df_in,x='Day',hue='Day_Label',multiple='stack')"
   ]
  },
  {
   "cell_type": "code",
   "execution_count": null,
   "metadata": {
    "id": "HX53LELkxmc5"
   },
   "outputs": [],
   "source": [
    "sns.kdeplot(noise_df_in,x='Night',hue='Night_Label',multiple='stack')"
   ]
  },
  {
   "cell_type": "code",
   "execution_count": null,
   "metadata": {
    "id": "p6F1bbSLqBYk"
   },
   "outputs": [],
   "source": [
    "data = noise_df_in['Day']\n",
    "data = data.tolist()\n",
    "keys = noise_df_in['Area_Type']"
   ]
  },
  {
   "cell_type": "code",
   "execution_count": null,
   "metadata": {
    "id": "taaep7s8EvvX"
   },
   "outputs": [],
   "source": [
    "px.pie(noise_df_in, values='Day', names='Area_Type',color_discrete_sequence=px.colors.sequential.RdBu,\n",
    "       title='Amount of Data In the Dataset of Day Noise label according to Area Type')"
   ]
  },
  {
   "cell_type": "code",
   "execution_count": null,
   "metadata": {
    "id": "z9kfIJX0FFzL"
   },
   "outputs": [],
   "source": [
    "px.pie(noise_df_in, values='Night', names='Area_Type',color_discrete_sequence=px.colors.sequential.RdBu,\n",
    "       title='Amount of Data In the Dataset of Night Noise label according to Area Type')"
   ]
  },
  {
   "cell_type": "code",
   "execution_count": null,
   "metadata": {
    "id": "o0qYdKe6wJM-"
   },
   "outputs": [],
   "source": [
    "sns.countplot(area_df,x='Type',palette='magma')"
   ]
  },
  {
   "cell_type": "code",
   "execution_count": null,
   "metadata": {
    "id": "QmiCIKNAEn6Z"
   },
   "outputs": [],
   "source": [
    "sns.countplot(noise_df_in,x='Area_Type',hue='Day_Label',palette='magma')"
   ]
  },
  {
   "cell_type": "code",
   "execution_count": null,
   "metadata": {
    "id": "ghrWbsIRFdPY"
   },
   "outputs": [],
   "source": [
    "sns.countplot(noise_df_in,x='Area_Type',hue='Night_Label',palette='magma')"
   ]
  },
  {
   "cell_type": "markdown",
   "metadata": {
    "id": "oNuwOKnlCqY9"
   },
   "source": [
    "# MODEL CREATION AND PREDICTION"
   ]
  },
  {
   "cell_type": "code",
   "execution_count": null,
   "metadata": {
    "id": "rU_nVltACxde"
   },
   "outputs": [],
   "source": [
    "from sklearn.model_selection import train_test_split\n",
    "from sklearn.ensemble import RandomForestClassifier\n",
    "from sklearn.tree import DecisionTreeClassifier\n",
    "from sklearn.linear_model import LogisticRegression\n",
    "from sklearn.svm import SVC\n",
    "from sklearn.neighbors import KNeighborsClassifier\n",
    "from sklearn.metrics import confusion_matrix,classification_report,ConfusionMatrixDisplay,recall_score,precision_score,f1_score\n",
    "from sklearn.preprocessing import LabelEncoder,StandardScaler"
   ]
  },
  {
   "cell_type": "code",
   "execution_count": null,
   "metadata": {
    "id": "e1urGneiEzUn"
   },
   "outputs": [],
   "source": [
    "encoder = LabelEncoder()\n",
    "scaler = StandardScaler()"
   ]
  },
  {
   "cell_type": "code",
   "execution_count": null,
   "metadata": {
    "id": "fU9Gmsd7D7Rs"
   },
   "outputs": [],
   "source": [
    "noise_df_in.head()"
   ]
  },
  {
   "cell_type": "code",
   "execution_count": null,
   "metadata": {
    "id": "v3P5zgJwL_IS"
   },
   "outputs": [],
   "source": [
    "final_df = noise_df_in.drop(['Station'],axis=1)"
   ]
  },
  {
   "cell_type": "code",
   "execution_count": null,
   "metadata": {
    "id": "twk3N-yeDZ6M"
   },
   "outputs": [],
   "source": [
    "final_df.head()"
   ]
  },
  {
   "cell_type": "code",
   "execution_count": null,
   "metadata": {
    "id": "Vx0z8uGLMLui"
   },
   "outputs": [],
   "source": [
    "final_df['Day_Label'] = encoder.fit_transform(final_df['Day_Label'])\n",
    "final_df['Night_Label'] = encoder.fit_transform(final_df['Night_Label'])\n",
    "final_df['Area_Type'] = encoder.fit_transform(final_df['Area_Type'])"
   ]
  },
  {
   "cell_type": "code",
   "execution_count": null,
   "metadata": {
    "id": "vV-X1GMfNBzY"
   },
   "outputs": [],
   "source": [
    "final_df.info()"
   ]
  },
  {
   "cell_type": "markdown",
   "metadata": {
    "id": "5DMM0IalPCeZ"
   },
   "source": [
    "# FOR DAY_LABEL\n"
   ]
  },
  {
   "cell_type": "code",
   "execution_count": null,
   "metadata": {
    "id": "R37e7RnGNIuu"
   },
   "outputs": [],
   "source": [
    "X = final_df.drop(['Day_Label','Night_Label'],axis=1)\n",
    "y = final_df['Day_Label']"
   ]
  },
  {
   "cell_type": "code",
   "execution_count": null,
   "metadata": {
    "id": "bZe6OzZiTHNE"
   },
   "outputs": [],
   "source": [
    "X.shape"
   ]
  },
  {
   "cell_type": "code",
   "execution_count": null,
   "metadata": {
    "id": "suk-MH6uT7yG"
   },
   "outputs": [],
   "source": [
    "X_train, X_test, y_train, y_test = train_test_split(X, y, test_size=0.33, random_state=101)"
   ]
  },
  {
   "cell_type": "code",
   "execution_count": null,
   "metadata": {
    "id": "qcfApu4dUjw9"
   },
   "outputs": [],
   "source": [
    "X_train = scaler.fit_transform(X_train)\n",
    "X_test = scaler.transform(X_test)"
   ]
  },
  {
   "cell_type": "code",
   "execution_count": null,
   "metadata": {
    "id": "FpauYA-eUGU8"
   },
   "outputs": [],
   "source": [
    "#Logistic Regression\n",
    "lr = LogisticRegression()\n",
    "lr.fit(X_train,y_train)\n",
    "predictions_lr = lr.predict(X_test)\n",
    "cm_lr = confusion_matrix(y_test,predictions_lr)\n",
    "print('Precision Score: ',precision_score(y_test,predictions_lr))\n",
    "print('Recall Score: ',recall_score(y_test,predictions_lr))\n",
    "print('F1 Score: ',f1_score(y_test,predictions_lr))\n",
    "ConfusionMatrixDisplay(cm_lr,display_labels=['0','1']).plot()\n",
    "print(classification_report(y_test,predictions_lr))"
   ]
  },
  {
   "cell_type": "code",
   "execution_count": null,
   "metadata": {
    "id": "1iwSY95IW52s"
   },
   "outputs": [],
   "source": [
    "#KNN\n",
    "knn = KNeighborsClassifier()\n",
    "knn.fit(X_train,y_train)\n",
    "predictions_knn = knn.predict(X_test)\n",
    "cm_knn = confusion_matrix(y_test,predictions_knn)\n",
    "ConfusionMatrixDisplay(cm_knn,display_labels=['0','1']).plot()\n",
    "print('Precision Score: ',precision_score(y_test,predictions_knn))\n",
    "print('Recall Score: ',recall_score(y_test,predictions_knn))\n",
    "print('F1 Score: ',f1_score(y_test,predictions_knn))\n",
    "print(classification_report(y_test,predictions_knn))"
   ]
  },
  {
   "cell_type": "code",
   "execution_count": null,
   "metadata": {
    "id": "BDITpqhoFncy"
   },
   "outputs": [],
   "source": [
    "#Random Forest\n",
    "rf = RandomForestClassifier()\n",
    "rf.fit(X_train,y_train)\n",
    "predictions_rf = rf.predict(X_test)\n",
    "cm_rf = confusion_matrix(y_test,predictions_rf)\n",
    "ConfusionMatrixDisplay(cm_rf,display_labels=['0','1']).plot()\n",
    "print('Precision Score: ',precision_score(y_test,predictions_rf))\n",
    "print('Recall Score: ',recall_score(y_test,predictions_rf))\n",
    "print('F1 Score: ',f1_score(y_test,predictions_rf))\n",
    "print(classification_report(y_test,predictions_rf))"
   ]
  },
  {
   "cell_type": "code",
   "execution_count": null,
   "metadata": {
    "id": "x5iBylnkGHF_"
   },
   "outputs": [],
   "source": [
    "#Decision Tree\n",
    "dt = DecisionTreeClassifier()\n",
    "dt.fit(X_train,y_train)\n",
    "predictions_dt = dt.predict(X_test)\n",
    "cm_dt = confusion_matrix(y_test,predictions_dt)\n",
    "ConfusionMatrixDisplay(cm_dt,display_labels=['0','1']).plot()\n",
    "print('Precision Score: ',precision_score(y_test,predictions_dt))\n",
    "print('Recall Score: ',recall_score(y_test,predictions_dt))\n",
    "print('F1 Score: ',f1_score(y_test,predictions_dt))\n",
    "print(classification_report(y_test,predictions_dt))"
   ]
  },
  {
   "cell_type": "code",
   "execution_count": null,
   "metadata": {
    "id": "E95Lx7vBGbVj"
   },
   "outputs": [],
   "source": [
    "#Support Vector Machine\n",
    "svm = SVC()\n",
    "svm.fit(X_train,y_train)\n",
    "predictions_svm = svm.predict(X_test)\n",
    "cm_svm = confusion_matrix(y_test,predictions_svm)\n",
    "ConfusionMatrixDisplay(cm_svm,display_labels=['0','1']).plot()\n",
    "print('Precision Score: ',precision_score(y_test,predictions_svm))\n",
    "print('Recall Score: ',recall_score(y_test,predictions_svm))\n",
    "print('F1 Score: ',f1_score(y_test,predictions_svm))\n",
    "print(classification_report(y_test,predictions_svm))"
   ]
  },
  {
   "cell_type": "code",
   "execution_count": null,
   "metadata": {
    "id": "4kEz1sXJR3oN"
   },
   "outputs": [],
   "source": [
    "accuracy_df = pd.DataFrame({\n",
    "    'accuracy' : [0.99,0.97,1.0,1.0,0.98],\n",
    "    'Models' : ['Logistic Regression','KNN','Random Forest','Decision Tree','SVM']\n",
    "    })\n",
    "print(accuracy_df)\n",
    "fig = px.bar(accuracy_df,x='Models',y='accuracy',text='accuracy',color='Models',color_discrete_sequence=px.colors.sequential.RdBu)\n",
    "fig.update_layout(font=dict(size=22))"
   ]
  },
  {
   "cell_type": "code",
   "execution_count": null,
   "metadata": {
    "id": "Q7FsAfjnV9il"
   },
   "outputs": [],
   "source": [
    "precision_df = pd.DataFrame({\n",
    "    'precision' : [1.0,0.96,1.0,1.0,0.99],\n",
    "    'Models' : ['Logistic Regression','KNN','Random Forest','Decision Tree','SVM']\n",
    "    })\n",
    "print(precision_df)\n",
    "fig = px.bar(precision_df,x='Models',y='precision',text='precision',color='Models',color_discrete_sequence=px.colors.sequential.Turbo)\n",
    "fig.update_layout(font=dict(size=22))"
   ]
  },
  {
   "cell_type": "code",
   "execution_count": null,
   "metadata": {
    "id": "CX5GghqIbZ7t"
   },
   "outputs": [],
   "source": [
    "recall_df = pd.DataFrame({\n",
    "    'recall' : [0.97,0.92,0.99,1.0,0.92],\n",
    "    'Models' : ['Logistic Regression','KNN','Random Forest','Decision Tree','SVM']\n",
    "    })\n",
    "print(recall_df)\n",
    "fig = px.bar(recall_df,x='Models',y='recall',text='recall',color='Models',color_discrete_sequence=px.colors.sequential.Agsunset)\n",
    "fig.update_layout(font=dict(size=22))"
   ]
  },
  {
   "cell_type": "code",
   "execution_count": null,
   "metadata": {
    "id": "fWhI0WhNc99D"
   },
   "outputs": [],
   "source": [
    "f1_df = pd.DataFrame({\n",
    "    'f1' : [0.98,0.94,0.99,1.0,0.95],\n",
    "    'Models' : ['Logistic Regression','KNN','Random Forest','Decision Tree','SVM']\n",
    "    })\n",
    "print(f1_df)\n",
    "fig = px.bar(f1_df,x='Models',y='f1',text='f1',color='Models',color_discrete_sequence=px.colors.sequential.Tealgrn)\n",
    "fig.update_layout(font=dict(size=22))"
   ]
  },
  {
   "cell_type": "markdown",
   "metadata": {
    "id": "sY1Y18ALPtDZ"
   },
   "source": [
    "# FOR NIGHT LABEL"
   ]
  },
  {
   "cell_type": "code",
   "execution_count": null,
   "metadata": {
    "id": "s14m41FzPwVP"
   },
   "outputs": [],
   "source": [
    "y1 = final_df['Night_Label']"
   ]
  },
  {
   "cell_type": "code",
   "execution_count": null,
   "metadata": {
    "id": "bVafb9SHQ9sS"
   },
   "outputs": [],
   "source": [
    "trainX, testX, trainY, testY= train_test_split(X, y1, test_size=0.33, random_state=101)"
   ]
  },
  {
   "cell_type": "code",
   "execution_count": null,
   "metadata": {
    "id": "5-wzVq9bRb2x"
   },
   "outputs": [],
   "source": [
    "trainX"
   ]
  },
  {
   "cell_type": "code",
   "execution_count": null,
   "metadata": {
    "id": "iPNmn7DqRN66"
   },
   "outputs": [],
   "source": [
    "trainX = scaler.fit_transform(trainX)\n",
    "testX = scaler.transform(testX)"
   ]
  },
  {
   "cell_type": "code",
   "execution_count": null,
   "metadata": {
    "id": "nudSOGJzP01A"
   },
   "outputs": [],
   "source": [
    "#Logistic Regression\n",
    "lr_night = LogisticRegression()\n",
    "lr_night.fit(trainX,trainY)\n",
    "predictions_lr_night = lr_night.predict(testX)\n",
    "cm_lr_night = confusion_matrix(testY,predictions_lr_night)\n",
    "print('Precision Score: ',precision_score(testY,predictions_lr_night))\n",
    "print('Recall Score: ',recall_score(testY,predictions_lr_night))\n",
    "print('F1 Score: ',f1_score(testY,predictions_lr_night))\n",
    "ConfusionMatrixDisplay(cm_lr_night,display_labels=['0','1']).plot()\n",
    "print(classification_report(testY,predictions_lr_night))"
   ]
  },
  {
   "cell_type": "code",
   "execution_count": null,
   "metadata": {
    "id": "LlejczxcSO18"
   },
   "outputs": [],
   "source": [
    "#KNN\n",
    "knn_night = KNeighborsClassifier()\n",
    "knn_night.fit(trainX,trainY)\n",
    "predictions_knn_night = knn_night.predict(testX)\n",
    "cm_knn_night = confusion_matrix(testY,predictions_knn_night)\n",
    "ConfusionMatrixDisplay(cm_knn_night,display_labels=['0','1']).plot()\n",
    "print('Precision Score: ',precision_score(testY,predictions_knn_night))\n",
    "print('Recall Score: ',recall_score(testY,predictions_knn_night))\n",
    "print('F1 Score: ',f1_score(testY,predictions_knn_night))\n",
    "print(classification_report(testY,predictions_knn_night))"
   ]
  },
  {
   "cell_type": "code",
   "execution_count": null,
   "metadata": {
    "id": "4cCY_16zSfAZ"
   },
   "outputs": [],
   "source": [
    "#Random Forest\n",
    "rf_night = RandomForestClassifier()\n",
    "rf_night.fit(trainX,trainY)\n",
    "predictions_rf_night = rf_night.predict(testX)\n",
    "cm_rf_night = confusion_matrix(testY,predictions_rf_night)\n",
    "ConfusionMatrixDisplay(cm_rf_night,display_labels=['0','1']).plot()\n",
    "print('Precision Score: ',precision_score(testY,predictions_rf_night))\n",
    "print('Recall Score: ',recall_score(testY,predictions_rf_night))\n",
    "print('F1 Score: ',f1_score(testY,predictions_rf_night))\n",
    "print(classification_report(testY,predictions_rf_night))"
   ]
  },
  {
   "cell_type": "code",
   "execution_count": null,
   "metadata": {
    "id": "TzrjUmT1Sqv0"
   },
   "outputs": [],
   "source": [
    "#Decision Tree\n",
    "dt_night = DecisionTreeClassifier()\n",
    "dt_night.fit(trainX,trainY)\n",
    "predictions_dt_night = dt_night.predict(testX)\n",
    "cm_dt_night = confusion_matrix(testY,predictions_dt_night)\n",
    "ConfusionMatrixDisplay(cm_dt_night,display_labels=['0','1']).plot()\n",
    "print('Precision Score: ',precision_score(testY,predictions_dt_night))\n",
    "print('Recall Score: ',recall_score(testY,predictions_dt_night))\n",
    "print('F1 Score: ',f1_score(testY,predictions_dt_night))\n",
    "print(classification_report(testY,predictions_dt_night))"
   ]
  },
  {
   "cell_type": "code",
   "execution_count": null,
   "metadata": {
    "id": "1i3Oa-sLTIHq"
   },
   "outputs": [],
   "source": [
    "#Support Vector Machine\n",
    "svm_night = SVC()\n",
    "svm_night.fit(trainX,trainY)\n",
    "predictions_svm_night = svm_night.predict(testX)\n",
    "cm_svm_night = confusion_matrix(testY,predictions_svm_night)\n",
    "ConfusionMatrixDisplay(cm_svm_night,display_labels=['0','1']).plot()\n",
    "print('Precision Score: ',precision_score(testY,predictions_svm_night))\n",
    "print('Recall Score: ',recall_score(testY,predictions_svm_night))\n",
    "print('F1 Score: ',f1_score(testY,predictions_svm_night))\n",
    "print(classification_report(testY,predictions_svm_night))"
   ]
  },
  {
   "cell_type": "code",
   "execution_count": null,
   "metadata": {
    "id": "KDj-C_zfTWlF"
   },
   "outputs": [],
   "source": [
    "accuracy_df_night = pd.DataFrame({\n",
    "    'accuracy' : [0.99,0.98,1.0,1.0,0.98],\n",
    "    'Models' : ['Logistic Regression','KNN','Random Forest','Decision Tree','SVM']\n",
    "    })\n",
    "print(accuracy_df_night)\n",
    "fig = px.bar(accuracy_df_night,x='Models',y='accuracy',text='accuracy',color='Models',color_discrete_sequence=px.colors.sequential.RdBu)\n",
    "fig.update_layout(font=dict(size=22))"
   ]
  },
  {
   "cell_type": "code",
   "execution_count": null,
   "metadata": {
    "id": "2IvS7PaAT0Nb"
   },
   "outputs": [],
   "source": [
    "precision_df_night = pd.DataFrame({\n",
    "    'precision' : [1.0,0.96,1.0,1.0,0.97],\n",
    "    'Models' : ['Logistic Regression','KNN','Random Forest','Decision Tree','SVM']\n",
    "    })\n",
    "print(precision_df_night)\n",
    "fig = px.bar(precision_df_night,x='Models',y='precision',text='precision',color='Models',color_discrete_sequence=px.colors.sequential.Turbo)\n",
    "fig.update_layout(font=dict(size=22))"
   ]
  },
  {
   "cell_type": "code",
   "execution_count": null,
   "metadata": {
    "id": "QKore6rYUHKk"
   },
   "outputs": [],
   "source": [
    "recall_df_night = pd.DataFrame({\n",
    "    'recall' : [0.94,0.92,1.0,1.0,0.92],\n",
    "    'Models' : ['Logistic Regression','KNN','Random Forest','Decision Tree','SVM']\n",
    "    })\n",
    "print(recall_df_night)\n",
    "fig = px.bar(recall_df_night,x='Models',y='recall',text='recall',color='Models',color_discrete_sequence=px.colors.sequential.Agsunset)\n",
    "fig.update_layout(font=dict(size=22))"
   ]
  },
  {
   "cell_type": "code",
   "execution_count": null,
   "metadata": {
    "id": "wRZVBAieUdPt"
   },
   "outputs": [],
   "source": [
    "f1_df = pd.DataFrame({\n",
    "    'f1' : [0.97,0.94,1.0,1.0,0.94],\n",
    "    'Models' : ['Logistic Regression','KNN','Random Forest','Decision Tree','SVM']\n",
    "    })\n",
    "print(f1_df)\n",
    "fig = px.bar(f1_df,x='Models',y='f1',text='f1',color='Models',color_discrete_sequence=px.colors.sequential.Tealgrn)\n",
    "fig.update_layout(font=dict(size=22))"
   ]
  }
 ],
 "metadata": {
  "colab": {
   "private_outputs": true,
   "provenance": []
  },
  "kernelspec": {
   "display_name": "Python 3 (ipykernel)",
   "language": "python",
   "name": "python3"
  },
  "language_info": {
   "codemirror_mode": {
    "name": "ipython",
    "version": 3
   },
   "file_extension": ".py",
   "mimetype": "text/x-python",
   "name": "python",
   "nbconvert_exporter": "python",
   "pygments_lexer": "ipython3",
   "version": "3.11.7"
  }
 },
 "nbformat": 4,
 "nbformat_minor": 4
}
