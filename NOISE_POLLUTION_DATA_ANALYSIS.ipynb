{
  "nbformat": 4,
  "nbformat_minor": 0,
  "metadata": {
    "colab": {
      "private_outputs": true,
      "provenance": []
    },
    "kernelspec": {
      "name": "python3",
      "display_name": "Python 3"
    },
    "language_info": {
      "name": "python"
    }
  },
  "cells": [
    {
      "cell_type": "code",
      "execution_count": null,
      "metadata": {
        "id": "E5pMWi3K5dRI"
      },
      "outputs": [],
      "source": [
        "import pandas as pd\n",
        "import numpy as np\n",
        "import matplotlib.pyplot as plt\n",
        "import seaborn as sns\n",
        "import plotly.express as px\n",
        "from google.colab import files"
      ]
    },
    {
      "cell_type": "code",
      "source": [
        "sns.set_style('white')"
      ],
      "metadata": {
        "id": "8aWdJXoAFdnl"
      },
      "execution_count": null,
      "outputs": []
    },
    {
      "cell_type": "code",
      "source": [
        "pd.set_option('display.max_rows',None)"
      ],
      "metadata": {
        "id": "HHSlvyK3dLay"
      },
      "execution_count": null,
      "outputs": []
    },
    {
      "cell_type": "code",
      "source": [
        "noise_df_in = pd.read_csv('/content/station_month.csv')"
      ],
      "metadata": {
        "id": "JFfWsf-B5-DM"
      },
      "execution_count": null,
      "outputs": []
    },
    {
      "cell_type": "code",
      "source": [
        "area_df = pd.read_csv('stations.csv')"
      ],
      "metadata": {
        "id": "etQ0LL3tv2Ft"
      },
      "execution_count": null,
      "outputs": []
    },
    {
      "cell_type": "code",
      "source": [
        "noise_df_in.dropna(inplace=True)"
      ],
      "metadata": {
        "id": "CWDQ26tNW-04"
      },
      "execution_count": null,
      "outputs": []
    },
    {
      "cell_type": "code",
      "source": [
        "# noise_df_in = noise_df.reset_index()"
      ],
      "metadata": {
        "id": "wCHPxY4d_jf3"
      },
      "execution_count": null,
      "outputs": []
    },
    {
      "cell_type": "code",
      "source": [
        "noise_df_in.head(10)"
      ],
      "metadata": {
        "id": "cAaPF-MnAzdF"
      },
      "execution_count": null,
      "outputs": []
    },
    {
      "cell_type": "code",
      "source": [
        "noise_df_in.to_csv('noise_df_in.csv')"
      ],
      "metadata": {
        "id": "FFCatokxGlLb"
      },
      "execution_count": null,
      "outputs": []
    },
    {
      "cell_type": "code",
      "source": [
        "area_df.head()"
      ],
      "metadata": {
        "id": "NjK9pyCuwDoV"
      },
      "execution_count": null,
      "outputs": []
    },
    {
      "cell_type": "code",
      "source": [
        "len(noise_df_in)"
      ],
      "metadata": {
        "id": "KzaYDbjs-dlr"
      },
      "execution_count": null,
      "outputs": []
    },
    {
      "cell_type": "code",
      "source": [
        "noise_df_in = noise_df_in.reset_index()"
      ],
      "metadata": {
        "id": "PPNIYJPZ-VRk"
      },
      "execution_count": null,
      "outputs": []
    },
    {
      "cell_type": "code",
      "source": [
        "noise_df_in.drop('index',axis=1,inplace=True)"
      ],
      "metadata": {
        "id": "mv9wb4bgF7yF"
      },
      "execution_count": null,
      "outputs": []
    },
    {
      "cell_type": "code",
      "source": [
        "noise_df_in.loc[noise_df_in['Day'] <= noise_df_in['DayLimit'], 'Day_Label'] = 'Low'\n",
        "noise_df_in.loc[noise_df_in['Day'] >= noise_df_in['DayLimit'], 'Day_Label'] = 'High'"
      ],
      "metadata": {
        "id": "tpc5ynfjLgWK"
      },
      "execution_count": null,
      "outputs": []
    },
    {
      "cell_type": "code",
      "source": [
        "noise_df_in.loc[noise_df_in['Night'] <= noise_df_in['NightLimit'], 'Night_Label'] = 'Low'\n",
        "noise_df_in.loc[noise_df_in['Night'] >= noise_df_in['NightLimit'], 'Night_Label'] = 'High'"
      ],
      "metadata": {
        "id": "JCZXffwDMJcc"
      },
      "execution_count": null,
      "outputs": []
    },
    {
      "cell_type": "code",
      "source": [
        "noise_df_in.loc[noise_df_in['Station'] == 'BEN01', 'Area_Type'] = 'Residential'\n",
        "noise_df_in.loc[noise_df_in['Station'] == 'BEN02', 'Area_Type'] = 'Commercial'\n",
        "noise_df_in.loc[noise_df_in['Station'] == 'BEN03', 'Area_Type'] = 'Residential'\n",
        "noise_df_in.loc[noise_df_in['Station'] == 'BEN04', 'Area_Type'] = 'Commercial'\n",
        "noise_df_in.loc[noise_df_in['Station'] == 'BEN05', 'Area_Type'] = 'Industrial'\n",
        "noise_df_in.loc[noise_df_in['Station'] == 'BEN06', 'Area_Type'] = 'Commercial'\n",
        "noise_df_in.loc[noise_df_in['Station'] == 'BEN07', 'Area_Type'] = 'Silence'\n",
        "noise_df_in.loc[noise_df_in['Station'] == 'BEN08', 'Area_Type'] = 'Industrial'\n",
        "noise_df_in.loc[noise_df_in['Station'] == 'BEN09', 'Area_Type'] = 'Silence'\n",
        "noise_df_in.loc[noise_df_in['Station'] == 'BEN10', 'Area_Type'] = 'Residential'"
      ],
      "metadata": {
        "id": "PwocH2JF1EvF"
      },
      "execution_count": null,
      "outputs": []
    },
    {
      "cell_type": "code",
      "source": [
        "noise_df_in.loc[noise_df_in['Station'] == 'DEL01', 'Area_Type'] = 'Silence'\n",
        "noise_df_in.loc[noise_df_in['Station'] == 'DEL02', 'Area_Type'] = 'Commercial'\n",
        "noise_df_in.loc[noise_df_in['Station'] == 'DEL03', 'Area_Type'] = 'Silence'\n",
        "noise_df_in.loc[noise_df_in['Station'] == 'DEL04', 'Area_Type'] = 'Commercial'\n",
        "noise_df_in.loc[noise_df_in['Station'] == 'DEL05', 'Area_Type'] = 'Silence'\n",
        "noise_df_in.loc[noise_df_in['Station'] == 'DEL06', 'Area_Type'] = 'Commercial'\n",
        "noise_df_in.loc[noise_df_in['Station'] == 'DEL07', 'Area_Type'] = 'Silence'\n",
        "noise_df_in.loc[noise_df_in['Station'] == 'DEL08', 'Area_Type'] = 'Commercial'\n",
        "noise_df_in.loc[noise_df_in['Station'] == 'DEL09', 'Area_Type'] = 'Silence'\n",
        "noise_df_in.loc[noise_df_in['Station'] == 'DEL10', 'Area_Type'] = 'Residential'"
      ],
      "metadata": {
        "id": "P73AMWmiBbFD"
      },
      "execution_count": null,
      "outputs": []
    },
    {
      "cell_type": "code",
      "source": [
        "noise_df_in.loc[noise_df_in['Station'] == 'CHE01', 'Area_Type'] = 'Silence'\n",
        "noise_df_in.loc[noise_df_in['Station'] == 'CHE02', 'Area_Type'] = 'Industrial'\n",
        "noise_df_in.loc[noise_df_in['Station'] == 'CHE03', 'Area_Type'] = 'Commercial'\n",
        "noise_df_in.loc[noise_df_in['Station'] == 'CHE04', 'Area_Type'] = 'Commercial'\n",
        "noise_df_in.loc[noise_df_in['Station'] == 'CHE05', 'Area_Type'] = 'Residential'\n",
        "noise_df_in.loc[noise_df_in['Station'] == 'CHE06', 'Area_Type'] = 'Commercial'\n",
        "noise_df_in.loc[noise_df_in['Station'] == 'CHE07', 'Area_Type'] = 'Residential'\n",
        "noise_df_in.loc[noise_df_in['Station'] == 'CHE08', 'Area_Type'] = 'Commercial'\n",
        "noise_df_in.loc[noise_df_in['Station'] == 'CHE09', 'Area_Type'] = 'Silence'\n",
        "noise_df_in.loc[noise_df_in['Station'] == 'CHE10', 'Area_Type'] = 'Residential'"
      ],
      "metadata": {
        "id": "pGHE7RBqByOc"
      },
      "execution_count": null,
      "outputs": []
    },
    {
      "cell_type": "code",
      "source": [
        "noise_df_in.loc[noise_df_in['Station'] == 'HYD01', 'Area_Type'] = 'Commercial'\n",
        "noise_df_in.loc[noise_df_in['Station'] == 'HYD02', 'Area_Type'] = 'Industrial'\n",
        "noise_df_in.loc[noise_df_in['Station'] == 'HYD03', 'Area_Type'] = 'Residential'\n",
        "noise_df_in.loc[noise_df_in['Station'] == 'HYD04', 'Area_Type'] = 'Silence'\n",
        "noise_df_in.loc[noise_df_in['Station'] == 'HYD05', 'Area_Type'] = 'Commercial'\n",
        "noise_df_in.loc[noise_df_in['Station'] == 'HYD06', 'Area_Type'] = 'Residential'\n",
        "noise_df_in.loc[noise_df_in['Station'] == 'HYD07', 'Area_Type'] = 'Industrial'\n",
        "noise_df_in.loc[noise_df_in['Station'] == 'HYD08', 'Area_Type'] = 'Silence'\n",
        "noise_df_in.loc[noise_df_in['Station'] == 'HYD09', 'Area_Type'] = 'Commercial'\n",
        "noise_df_in.loc[noise_df_in['Station'] == 'HYD10', 'Area_Type'] = 'Commercial'"
      ],
      "metadata": {
        "id": "D65eoyF-CNMf"
      },
      "execution_count": null,
      "outputs": []
    },
    {
      "cell_type": "code",
      "source": [
        "noise_df_in.loc[noise_df_in['Station'] == 'KOL01', 'Area_Type'] = 'Industrial'\n",
        "noise_df_in.loc[noise_df_in['Station'] == 'KOL02', 'Area_Type'] = 'Commercial'\n",
        "noise_df_in.loc[noise_df_in['Station'] == 'KOL03', 'Area_Type'] = 'Residential'\n",
        "noise_df_in.loc[noise_df_in['Station'] == 'KOL04', 'Area_Type'] = 'Silence'\n",
        "noise_df_in.loc[noise_df_in['Station'] == 'KOL05', 'Area_Type'] = 'Commercial'\n",
        "noise_df_in.loc[noise_df_in['Station'] == 'KOL06', 'Area_Type'] = 'Residential'\n",
        "noise_df_in.loc[noise_df_in['Station'] == 'KOL07', 'Area_Type'] = 'Silence'\n",
        "noise_df_in.loc[noise_df_in['Station'] == 'KOL08', 'Area_Type'] = 'Commercial'\n",
        "noise_df_in.loc[noise_df_in['Station'] == 'KOL09', 'Area_Type'] = 'Residential'\n",
        "noise_df_in.loc[noise_df_in['Station'] == 'KOL10', 'Area_Type'] = 'Industrial'"
      ],
      "metadata": {
        "id": "Wb0OeMGZCxeG"
      },
      "execution_count": null,
      "outputs": []
    },
    {
      "cell_type": "code",
      "source": [
        "noise_df_in.loc[noise_df_in['Station'] == 'LUC01', 'Area_Type'] = 'Industrial'\n",
        "noise_df_in.loc[noise_df_in['Station'] == 'LUC02', 'Area_Type'] = 'Commercial'\n",
        "noise_df_in.loc[noise_df_in['Station'] == 'LUC03', 'Area_Type'] = 'Silence'\n",
        "noise_df_in.loc[noise_df_in['Station'] == 'LUC04', 'Area_Type'] = 'Residential'\n",
        "noise_df_in.loc[noise_df_in['Station'] == 'LUC05', 'Area_Type'] = 'Silence'\n",
        "noise_df_in.loc[noise_df_in['Station'] == 'LUC06', 'Area_Type'] = 'Industrial'\n",
        "noise_df_in.loc[noise_df_in['Station'] == 'LUC07', 'Area_Type'] = 'Silence'\n",
        "noise_df_in.loc[noise_df_in['Station'] == 'LUC08', 'Area_Type'] = 'Commercial'\n",
        "noise_df_in.loc[noise_df_in['Station'] == 'LUC09', 'Area_Type'] = 'Commercial'\n",
        "noise_df_in.loc[noise_df_in['Station'] == 'LUC10', 'Area_Type'] = 'Commercial'"
      ],
      "metadata": {
        "id": "bOU3joAUDH85"
      },
      "execution_count": null,
      "outputs": []
    },
    {
      "cell_type": "code",
      "source": [
        "noise_df_in.loc[noise_df_in['Station'] == 'MUM01', 'Area_Type'] = 'Silence'\n",
        "noise_df_in.loc[noise_df_in['Station'] == 'MUM02', 'Area_Type'] = 'Commercial'\n",
        "noise_df_in.loc[noise_df_in['Station'] == 'MUM03', 'Area_Type'] = 'Commercial'\n",
        "noise_df_in.loc[noise_df_in['Station'] == 'MUM04', 'Area_Type'] = 'Commercial'\n",
        "noise_df_in.loc[noise_df_in['Station'] == 'MUM05', 'Area_Type'] = 'Silence'\n",
        "noise_df_in.loc[noise_df_in['Station'] == 'MUM06', 'Area_Type'] = 'Industrial'\n",
        "noise_df_in.loc[noise_df_in['Station'] == 'MUM07', 'Area_Type'] = 'Industrial'\n",
        "noise_df_in.loc[noise_df_in['Station'] == 'MUM08', 'Area_Type'] = 'Residential'\n",
        "noise_df_in.loc[noise_df_in['Station'] == 'MUM09', 'Area_Type'] = 'Industrial'\n",
        "noise_df_in.loc[noise_df_in['Station'] == 'MUM10', 'Area_Type'] = 'Commercial'"
      ],
      "metadata": {
        "id": "o3sZR8P1DcZl"
      },
      "execution_count": null,
      "outputs": []
    },
    {
      "cell_type": "code",
      "source": [
        "stations = noise_df_in['Station'].unique()"
      ],
      "metadata": {
        "id": "OuvVWd_u0QLq"
      },
      "execution_count": null,
      "outputs": []
    },
    {
      "cell_type": "code",
      "source": [
        "stations"
      ],
      "metadata": {
        "id": "FTS_zX5h0U73"
      },
      "execution_count": null,
      "outputs": []
    },
    {
      "cell_type": "code",
      "source": [
        "noise_df_in.describe().round(2)"
      ],
      "metadata": {
        "id": "StuyLFy29R_r"
      },
      "execution_count": null,
      "outputs": []
    },
    {
      "cell_type": "code",
      "source": [
        "year = noise_df_in['Year'].unique()"
      ],
      "metadata": {
        "id": "SoHcB_Rnj1MS"
      },
      "execution_count": null,
      "outputs": []
    },
    {
      "cell_type": "code",
      "source": [
        "month = noise_df_in['Month'].unique()"
      ],
      "metadata": {
        "id": "3Dxqd23Dwonx"
      },
      "execution_count": null,
      "outputs": []
    },
    {
      "cell_type": "code",
      "source": [
        "d = []\n",
        "for i in range(0,len(stations)):\n",
        "  for j in range(0,len(year)):\n",
        "    max = noise_df_in[(noise_df_in['Station'] == stations[i]) & (noise_df_in['Year'] == year[j])]['Night'].max()\n",
        "    min = noise_df_in[(noise_df_in['Station'] == stations[i]) & (noise_df_in['Year'] == year[j])]['Night'].min()\n",
        "    d.append({\n",
        "        'Station' : stations[i],\n",
        "        'Year' : year[j],\n",
        "        'Min' : min,\n",
        "        'Max' : max\n",
        "    })\n",
        "    pd.DataFrame(d)\n",
        "    # print(stations[i],a)"
      ],
      "metadata": {
        "id": "fE0jhfUmZSnw"
      },
      "execution_count": null,
      "outputs": []
    },
    {
      "cell_type": "code",
      "source": [
        "night_mm = pd.DataFrame(d)\n",
        "night_mm.head()"
      ],
      "metadata": {
        "id": "ojdnhxrzb1-G"
      },
      "execution_count": null,
      "outputs": []
    },
    {
      "cell_type": "code",
      "source": [
        "n = []\n",
        "for i in range(0,len(stations)):\n",
        "  for j in range(0,len(year)):\n",
        "      max = noise_df_in[(noise_df_in['Station'] == stations[i]) & (noise_df_in['Year'] == year[j])]['Day'].max()\n",
        "      min = noise_df_in[(noise_df_in['Station'] == stations[i]) & (noise_df_in['Year'] == year[j])]['Day'].min()\n",
        "      n.append({\n",
        "          'Station' : stations[i],\n",
        "          'Year' : year[j],\n",
        "          'Min' : min,\n",
        "          'Max' : max\n",
        "      })\n",
        "      pd.DataFrame(n)"
      ],
      "metadata": {
        "id": "pxkRil3eXFie"
      },
      "execution_count": null,
      "outputs": []
    },
    {
      "cell_type": "code",
      "source": [
        "day_mm = pd.DataFrame(n).dropna()\n",
        "day_mm.reset_index(inplace=True)\n",
        "day_mm.head()"
      ],
      "metadata": {
        "id": "QMKVIZhmXNAa"
      },
      "execution_count": null,
      "outputs": []
    },
    {
      "cell_type": "code",
      "source": [
        "m = []\n",
        "for i in range(0,len(noise_df_in)):\n",
        "  for j in range(0,len(day_mm)):\n",
        "    if (noise_df_in['Station'][i] == day_mm['Station'][j] and noise_df_in['Year'][i] == day_mm['Year'][j] and noise_df_in['Day'][i] == day_mm['Max'][j]):\n",
        "      month = noise_df_in['Month'][i]\n",
        "      m.append({\n",
        "          'Station' : noise_df_in['Station'][i],\n",
        "          'Year' : noise_df_in['Year'][i],\n",
        "          'Month' : month,\n",
        "          'Day' : noise_df_in['Day'][i]\n",
        "      })\n",
        "      pd.DataFrame(m)"
      ],
      "metadata": {
        "id": "93F317biAFnV"
      },
      "execution_count": null,
      "outputs": []
    },
    {
      "cell_type": "code",
      "source": [
        "pd.DataFrame(m).dropna()"
      ],
      "metadata": {
        "id": "LaPFJcIIJvQp"
      },
      "execution_count": null,
      "outputs": []
    },
    {
      "cell_type": "code",
      "source": [
        "day_mm_ben01 = day_mm[day_mm['Station'] == 'BEN01']"
      ],
      "metadata": {
        "id": "c2XQqrBbYJXH"
      },
      "execution_count": null,
      "outputs": []
    },
    {
      "cell_type": "code",
      "source": [
        "sns.barplot(day_mm_ben01,x='Year',y='Max',palette='magma')"
      ],
      "metadata": {
        "id": "8RXfqUhpY6zK"
      },
      "execution_count": null,
      "outputs": []
    },
    {
      "cell_type": "code",
      "source": [
        "px.bar(day_mm_ben01,x='Year',y='Min',text='Min',color='Min')"
      ],
      "metadata": {
        "id": "FQSdEjSGZfCT"
      },
      "execution_count": null,
      "outputs": []
    },
    {
      "cell_type": "code",
      "source": [
        "noise_df_in[noise_df_in['Area_Type'] == 'Industrial']"
      ],
      "metadata": {
        "id": "ZBZ3mSnQIhEe"
      },
      "execution_count": null,
      "outputs": []
    },
    {
      "cell_type": "code",
      "source": [
        "day_mm.loc[day_mm['Max'] >= 75, ['Station','Year','Max','Min']]"
      ],
      "metadata": {
        "id": "H8QKMwnhmNnu"
      },
      "execution_count": null,
      "outputs": []
    },
    {
      "cell_type": "code",
      "source": [
        "day_mm"
      ],
      "metadata": {
        "id": "_nvDizo6vlK9"
      },
      "execution_count": null,
      "outputs": []
    },
    {
      "cell_type": "code",
      "source": [
        "noise_df_in.loc[noise_df_in['Day'] >= 75, ['Station','Year','Day']]"
      ],
      "metadata": {
        "id": "bcxWOYl5sx1c"
      },
      "execution_count": null,
      "outputs": []
    },
    {
      "cell_type": "code",
      "source": [
        "for i in range(0,len(stations)):\n",
        "  for j in range(0,len(year)):\n",
        "    for k in range(0,len(day_mm)):\n",
        "      for l in range(0,len(noise_df_in)):\n",
        "        if noise_df_in[(noise_df_in['Station'] == stations[i]) & (noise_df_in['Year'] == year[j]) & (day_mm['Min'] == day_mm[k])]:\n",
        "          print(noise_df_in['Month'][l])"
      ],
      "metadata": {
        "id": "Xv1OpvmovQgy"
      },
      "execution_count": null,
      "outputs": []
    },
    {
      "cell_type": "markdown",
      "source": [
        "# PLOTTING"
      ],
      "metadata": {
        "id": "ZmZfDgBZsIJ-"
      }
    },
    {
      "cell_type": "code",
      "source": [
        "sns.jointplot(noise_df_in,x='Day',y='Night',hue='Night_Label',palette='magma')"
      ],
      "metadata": {
        "id": "t89vlU09U1Fz"
      },
      "execution_count": null,
      "outputs": []
    },
    {
      "cell_type": "code",
      "source": [
        "sns.countplot(noise_df_in,x='Night_Label',palette='magma')"
      ],
      "metadata": {
        "id": "VFAQdWmTMXLY"
      },
      "execution_count": null,
      "outputs": []
    },
    {
      "cell_type": "code",
      "source": [
        "sns.countplot(noise_df_in,x='Day_Label')"
      ],
      "metadata": {
        "id": "MSLm7vTE_42v"
      },
      "execution_count": null,
      "outputs": []
    },
    {
      "cell_type": "code",
      "source": [
        "sns.jointplot(noise_df_in,x='Day',y='Night',hue='Day_Label',palette='magma')"
      ],
      "metadata": {
        "id": "ZT72mc87sKfL"
      },
      "execution_count": null,
      "outputs": []
    },
    {
      "cell_type": "code",
      "source": [
        "sns.kdeplot(noise_df_in,x='Day',hue='Day_Label',multiple='stack')"
      ],
      "metadata": {
        "id": "tkY2Kei0vK35"
      },
      "execution_count": null,
      "outputs": []
    },
    {
      "cell_type": "code",
      "source": [
        "sns.kdeplot(noise_df_in,x='Night',hue='Night_Label',multiple='stack')"
      ],
      "metadata": {
        "id": "HX53LELkxmc5"
      },
      "execution_count": null,
      "outputs": []
    },
    {
      "cell_type": "code",
      "source": [
        "data = noise_df_in['Day']\n",
        "data = data.tolist()\n",
        "keys = noise_df_in['Area_Type']"
      ],
      "metadata": {
        "id": "p6F1bbSLqBYk"
      },
      "execution_count": null,
      "outputs": []
    },
    {
      "cell_type": "code",
      "source": [
        "px.pie(noise_df_in, values='Day', names='Area_Type',color_discrete_sequence=px.colors.sequential.RdBu,\n",
        "       title='Amount of Data In the Dataset of Day Noise label according to Area Type')"
      ],
      "metadata": {
        "id": "taaep7s8EvvX"
      },
      "execution_count": null,
      "outputs": []
    },
    {
      "cell_type": "code",
      "source": [
        "px.pie(noise_df_in, values='Night', names='Area_Type',color_discrete_sequence=px.colors.sequential.RdBu,\n",
        "       title='Amount of Data In the Dataset of Night Noise label according to Area Type')"
      ],
      "metadata": {
        "id": "z9kfIJX0FFzL"
      },
      "execution_count": null,
      "outputs": []
    },
    {
      "cell_type": "code",
      "source": [
        "sns.countplot(area_df,x='Type',palette='magma')"
      ],
      "metadata": {
        "id": "o0qYdKe6wJM-"
      },
      "execution_count": null,
      "outputs": []
    },
    {
      "cell_type": "code",
      "source": [
        "sns.countplot(noise_df_in,x='Area_Type',hue='Day_Label',palette='magma')"
      ],
      "metadata": {
        "id": "QmiCIKNAEn6Z"
      },
      "execution_count": null,
      "outputs": []
    },
    {
      "cell_type": "code",
      "source": [
        "sns.countplot(noise_df_in,x='Area_Type',hue='Night_Label',palette='magma')"
      ],
      "metadata": {
        "id": "ghrWbsIRFdPY"
      },
      "execution_count": null,
      "outputs": []
    },
    {
      "cell_type": "markdown",
      "source": [
        "# MODEL CREATION AND PREDICTION"
      ],
      "metadata": {
        "id": "oNuwOKnlCqY9"
      }
    },
    {
      "cell_type": "code",
      "source": [
        "from sklearn.model_selection import train_test_split\n",
        "from sklearn.ensemble import RandomForestClassifier\n",
        "from sklearn.tree import DecisionTreeClassifier\n",
        "from sklearn.linear_model import LogisticRegression\n",
        "from sklearn.svm import SVC\n",
        "from sklearn.neighbors import KNeighborsClassifier\n",
        "from sklearn.metrics import confusion_matrix,classification_report,ConfusionMatrixDisplay,recall_score,precision_score,f1_score\n",
        "from sklearn.preprocessing import LabelEncoder,StandardScaler"
      ],
      "metadata": {
        "id": "rU_nVltACxde"
      },
      "execution_count": null,
      "outputs": []
    },
    {
      "cell_type": "code",
      "source": [
        "encoder = LabelEncoder()\n",
        "scaler = StandardScaler()"
      ],
      "metadata": {
        "id": "e1urGneiEzUn"
      },
      "execution_count": null,
      "outputs": []
    },
    {
      "cell_type": "code",
      "source": [
        "noise_df_in.head()"
      ],
      "metadata": {
        "id": "fU9Gmsd7D7Rs"
      },
      "execution_count": null,
      "outputs": []
    },
    {
      "cell_type": "code",
      "source": [
        "final_df = noise_df_in.drop(['Station'],axis=1)"
      ],
      "metadata": {
        "id": "v3P5zgJwL_IS"
      },
      "execution_count": null,
      "outputs": []
    },
    {
      "cell_type": "code",
      "source": [
        "final_df.head()"
      ],
      "metadata": {
        "id": "twk3N-yeDZ6M"
      },
      "execution_count": null,
      "outputs": []
    },
    {
      "cell_type": "code",
      "source": [
        "final_df['Day_Label'] = encoder.fit_transform(final_df['Day_Label'])\n",
        "final_df['Night_Label'] = encoder.fit_transform(final_df['Night_Label'])\n",
        "final_df['Area_Type'] = encoder.fit_transform(final_df['Area_Type'])"
      ],
      "metadata": {
        "id": "Vx0z8uGLMLui"
      },
      "execution_count": null,
      "outputs": []
    },
    {
      "cell_type": "code",
      "source": [
        "final_df.info()"
      ],
      "metadata": {
        "id": "vV-X1GMfNBzY"
      },
      "execution_count": null,
      "outputs": []
    },
    {
      "cell_type": "markdown",
      "source": [
        "# FOR DAY_LABEL\n"
      ],
      "metadata": {
        "id": "5DMM0IalPCeZ"
      }
    },
    {
      "cell_type": "code",
      "source": [
        "X = final_df.drop(['Day_Label','Night_Label'],axis=1)\n",
        "y = final_df['Day_Label']"
      ],
      "metadata": {
        "id": "R37e7RnGNIuu"
      },
      "execution_count": null,
      "outputs": []
    },
    {
      "cell_type": "code",
      "source": [
        "X.shape"
      ],
      "metadata": {
        "id": "bZe6OzZiTHNE"
      },
      "execution_count": null,
      "outputs": []
    },
    {
      "cell_type": "code",
      "source": [
        "X_train, X_test, y_train, y_test = train_test_split(X, y, test_size=0.33, random_state=101)"
      ],
      "metadata": {
        "id": "suk-MH6uT7yG"
      },
      "execution_count": null,
      "outputs": []
    },
    {
      "cell_type": "code",
      "source": [
        "X_train = scaler.fit_transform(X_train)\n",
        "X_test = scaler.transform(X_test)"
      ],
      "metadata": {
        "id": "qcfApu4dUjw9"
      },
      "execution_count": null,
      "outputs": []
    },
    {
      "cell_type": "code",
      "source": [
        "#Logistic Regression\n",
        "lr = LogisticRegression()\n",
        "lr.fit(X_train,y_train)\n",
        "predictions_lr = lr.predict(X_test)\n",
        "cm_lr = confusion_matrix(y_test,predictions_lr)\n",
        "print('Precision Score: ',precision_score(y_test,predictions_lr))\n",
        "print('Recall Score: ',recall_score(y_test,predictions_lr))\n",
        "print('F1 Score: ',f1_score(y_test,predictions_lr))\n",
        "ConfusionMatrixDisplay(cm_lr,display_labels=['0','1']).plot()\n",
        "print(classification_report(y_test,predictions_lr))"
      ],
      "metadata": {
        "id": "FpauYA-eUGU8"
      },
      "execution_count": null,
      "outputs": []
    },
    {
      "cell_type": "code",
      "source": [
        "#KNN\n",
        "knn = KNeighborsClassifier()\n",
        "knn.fit(X_train,y_train)\n",
        "predictions_knn = knn.predict(X_test)\n",
        "cm_knn = confusion_matrix(y_test,predictions_knn)\n",
        "ConfusionMatrixDisplay(cm_knn,display_labels=['0','1']).plot()\n",
        "print('Precision Score: ',precision_score(y_test,predictions_knn))\n",
        "print('Recall Score: ',recall_score(y_test,predictions_knn))\n",
        "print('F1 Score: ',f1_score(y_test,predictions_knn))\n",
        "print(classification_report(y_test,predictions_knn))"
      ],
      "metadata": {
        "id": "1iwSY95IW52s"
      },
      "execution_count": null,
      "outputs": []
    },
    {
      "cell_type": "code",
      "source": [
        "#Random Forest\n",
        "rf = RandomForestClassifier()\n",
        "rf.fit(X_train,y_train)\n",
        "predictions_rf = rf.predict(X_test)\n",
        "cm_rf = confusion_matrix(y_test,predictions_rf)\n",
        "ConfusionMatrixDisplay(cm_rf,display_labels=['0','1']).plot()\n",
        "print('Precision Score: ',precision_score(y_test,predictions_rf))\n",
        "print('Recall Score: ',recall_score(y_test,predictions_rf))\n",
        "print('F1 Score: ',f1_score(y_test,predictions_rf))\n",
        "print(classification_report(y_test,predictions_rf))"
      ],
      "metadata": {
        "id": "BDITpqhoFncy"
      },
      "execution_count": null,
      "outputs": []
    },
    {
      "cell_type": "code",
      "source": [
        "#Decision Tree\n",
        "dt = DecisionTreeClassifier()\n",
        "dt.fit(X_train,y_train)\n",
        "predictions_dt = dt.predict(X_test)\n",
        "cm_dt = confusion_matrix(y_test,predictions_dt)\n",
        "ConfusionMatrixDisplay(cm_dt,display_labels=['0','1']).plot()\n",
        "print('Precision Score: ',precision_score(y_test,predictions_dt))\n",
        "print('Recall Score: ',recall_score(y_test,predictions_dt))\n",
        "print('F1 Score: ',f1_score(y_test,predictions_dt))\n",
        "print(classification_report(y_test,predictions_dt))"
      ],
      "metadata": {
        "id": "x5iBylnkGHF_"
      },
      "execution_count": null,
      "outputs": []
    },
    {
      "cell_type": "code",
      "source": [
        "#Support Vector Machine\n",
        "svm = SVC()\n",
        "svm.fit(X_train,y_train)\n",
        "predictions_svm = svm.predict(X_test)\n",
        "cm_svm = confusion_matrix(y_test,predictions_svm)\n",
        "ConfusionMatrixDisplay(cm_svm,display_labels=['0','1']).plot()\n",
        "print('Precision Score: ',precision_score(y_test,predictions_svm))\n",
        "print('Recall Score: ',recall_score(y_test,predictions_svm))\n",
        "print('F1 Score: ',f1_score(y_test,predictions_svm))\n",
        "print(classification_report(y_test,predictions_svm))"
      ],
      "metadata": {
        "id": "E95Lx7vBGbVj"
      },
      "execution_count": null,
      "outputs": []
    },
    {
      "cell_type": "code",
      "source": [
        "accuracy_df = pd.DataFrame({\n",
        "    'accuracy' : [0.99,0.97,1.0,1.0,0.98],\n",
        "    'Models' : ['Logistic Regression','KNN','Random Forest','Decision Tree','SVM']\n",
        "    })\n",
        "print(accuracy_df)\n",
        "fig = px.bar(accuracy_df,x='Models',y='accuracy',text='accuracy',color='Models',color_discrete_sequence=px.colors.sequential.RdBu)\n",
        "fig.update_layout(font=dict(size=22))"
      ],
      "metadata": {
        "id": "4kEz1sXJR3oN"
      },
      "execution_count": null,
      "outputs": []
    },
    {
      "cell_type": "code",
      "source": [
        "precision_df = pd.DataFrame({\n",
        "    'precision' : [1.0,0.96,1.0,1.0,0.99],\n",
        "    'Models' : ['Logistic Regression','KNN','Random Forest','Decision Tree','SVM']\n",
        "    })\n",
        "print(precision_df)\n",
        "fig = px.bar(precision_df,x='Models',y='precision',text='precision',color='Models',color_discrete_sequence=px.colors.sequential.Turbo)\n",
        "fig.update_layout(font=dict(size=22))"
      ],
      "metadata": {
        "id": "Q7FsAfjnV9il"
      },
      "execution_count": null,
      "outputs": []
    },
    {
      "cell_type": "code",
      "source": [
        "recall_df = pd.DataFrame({\n",
        "    'recall' : [0.97,0.92,0.99,1.0,0.92],\n",
        "    'Models' : ['Logistic Regression','KNN','Random Forest','Decision Tree','SVM']\n",
        "    })\n",
        "print(recall_df)\n",
        "fig = px.bar(recall_df,x='Models',y='recall',text='recall',color='Models',color_discrete_sequence=px.colors.sequential.Agsunset)\n",
        "fig.update_layout(font=dict(size=22))"
      ],
      "metadata": {
        "id": "CX5GghqIbZ7t"
      },
      "execution_count": null,
      "outputs": []
    },
    {
      "cell_type": "code",
      "source": [
        "f1_df = pd.DataFrame({\n",
        "    'f1' : [0.98,0.94,0.99,1.0,0.95],\n",
        "    'Models' : ['Logistic Regression','KNN','Random Forest','Decision Tree','SVM']\n",
        "    })\n",
        "print(f1_df)\n",
        "fig = px.bar(f1_df,x='Models',y='f1',text='f1',color='Models',color_discrete_sequence=px.colors.sequential.Tealgrn)\n",
        "fig.update_layout(font=dict(size=22))"
      ],
      "metadata": {
        "id": "fWhI0WhNc99D"
      },
      "execution_count": null,
      "outputs": []
    },
    {
      "cell_type": "markdown",
      "source": [
        "# FOR NIGHT LABEL"
      ],
      "metadata": {
        "id": "sY1Y18ALPtDZ"
      }
    },
    {
      "cell_type": "code",
      "source": [
        "y1 = final_df['Night_Label']"
      ],
      "metadata": {
        "id": "s14m41FzPwVP"
      },
      "execution_count": null,
      "outputs": []
    },
    {
      "cell_type": "code",
      "source": [
        "trainX, testX, trainY, testY= train_test_split(X, y1, test_size=0.33, random_state=101)"
      ],
      "metadata": {
        "id": "bVafb9SHQ9sS"
      },
      "execution_count": null,
      "outputs": []
    },
    {
      "cell_type": "code",
      "source": [
        "trainX"
      ],
      "metadata": {
        "id": "5-wzVq9bRb2x"
      },
      "execution_count": null,
      "outputs": []
    },
    {
      "cell_type": "code",
      "source": [
        "trainX = scaler.fit_transform(trainX)\n",
        "testX = scaler.transform(testX)"
      ],
      "metadata": {
        "id": "iPNmn7DqRN66"
      },
      "execution_count": null,
      "outputs": []
    },
    {
      "cell_type": "code",
      "source": [
        "#Logistic Regression\n",
        "lr_night = LogisticRegression()\n",
        "lr_night.fit(trainX,trainY)\n",
        "predictions_lr_night = lr_night.predict(testX)\n",
        "cm_lr_night = confusion_matrix(testY,predictions_lr_night)\n",
        "print('Precision Score: ',precision_score(testY,predictions_lr_night))\n",
        "print('Recall Score: ',recall_score(testY,predictions_lr_night))\n",
        "print('F1 Score: ',f1_score(testY,predictions_lr_night))\n",
        "ConfusionMatrixDisplay(cm_lr_night,display_labels=['0','1']).plot()\n",
        "print(classification_report(testY,predictions_lr_night))"
      ],
      "metadata": {
        "id": "nudSOGJzP01A"
      },
      "execution_count": null,
      "outputs": []
    },
    {
      "cell_type": "code",
      "source": [
        "#KNN\n",
        "knn_night = KNeighborsClassifier()\n",
        "knn_night.fit(trainX,trainY)\n",
        "predictions_knn_night = knn_night.predict(testX)\n",
        "cm_knn_night = confusion_matrix(testY,predictions_knn_night)\n",
        "ConfusionMatrixDisplay(cm_knn_night,display_labels=['0','1']).plot()\n",
        "print('Precision Score: ',precision_score(testY,predictions_knn_night))\n",
        "print('Recall Score: ',recall_score(testY,predictions_knn_night))\n",
        "print('F1 Score: ',f1_score(testY,predictions_knn_night))\n",
        "print(classification_report(testY,predictions_knn_night))"
      ],
      "metadata": {
        "id": "LlejczxcSO18"
      },
      "execution_count": null,
      "outputs": []
    },
    {
      "cell_type": "code",
      "source": [
        "#Random Forest\n",
        "rf_night = RandomForestClassifier()\n",
        "rf_night.fit(trainX,trainY)\n",
        "predictions_rf_night = rf_night.predict(testX)\n",
        "cm_rf_night = confusion_matrix(testY,predictions_rf_night)\n",
        "ConfusionMatrixDisplay(cm_rf_night,display_labels=['0','1']).plot()\n",
        "print('Precision Score: ',precision_score(testY,predictions_rf_night))\n",
        "print('Recall Score: ',recall_score(testY,predictions_rf_night))\n",
        "print('F1 Score: ',f1_score(testY,predictions_rf_night))\n",
        "print(classification_report(testY,predictions_rf_night))"
      ],
      "metadata": {
        "id": "4cCY_16zSfAZ"
      },
      "execution_count": null,
      "outputs": []
    },
    {
      "cell_type": "code",
      "source": [
        "#Decision Tree\n",
        "dt_night = DecisionTreeClassifier()\n",
        "dt_night.fit(trainX,trainY)\n",
        "predictions_dt_night = dt_night.predict(testX)\n",
        "cm_dt_night = confusion_matrix(testY,predictions_dt_night)\n",
        "ConfusionMatrixDisplay(cm_dt_night,display_labels=['0','1']).plot()\n",
        "print('Precision Score: ',precision_score(testY,predictions_dt_night))\n",
        "print('Recall Score: ',recall_score(testY,predictions_dt_night))\n",
        "print('F1 Score: ',f1_score(testY,predictions_dt_night))\n",
        "print(classification_report(testY,predictions_dt_night))"
      ],
      "metadata": {
        "id": "TzrjUmT1Sqv0"
      },
      "execution_count": null,
      "outputs": []
    },
    {
      "cell_type": "code",
      "source": [
        "#Support Vector Machine\n",
        "svm_night = SVC()\n",
        "svm_night.fit(trainX,trainY)\n",
        "predictions_svm_night = svm_night.predict(testX)\n",
        "cm_svm_night = confusion_matrix(testY,predictions_svm_night)\n",
        "ConfusionMatrixDisplay(cm_svm_night,display_labels=['0','1']).plot()\n",
        "print('Precision Score: ',precision_score(testY,predictions_svm_night))\n",
        "print('Recall Score: ',recall_score(testY,predictions_svm_night))\n",
        "print('F1 Score: ',f1_score(testY,predictions_svm_night))\n",
        "print(classification_report(testY,predictions_svm_night))"
      ],
      "metadata": {
        "id": "1i3Oa-sLTIHq"
      },
      "execution_count": null,
      "outputs": []
    },
    {
      "cell_type": "code",
      "source": [
        "accuracy_df_night = pd.DataFrame({\n",
        "    'accuracy' : [0.99,0.98,1.0,1.0,0.98],\n",
        "    'Models' : ['Logistic Regression','KNN','Random Forest','Decision Tree','SVM']\n",
        "    })\n",
        "print(accuracy_df_night)\n",
        "fig = px.bar(accuracy_df_night,x='Models',y='accuracy',text='accuracy',color='Models',color_discrete_sequence=px.colors.sequential.RdBu)\n",
        "fig.update_layout(font=dict(size=22))"
      ],
      "metadata": {
        "id": "KDj-C_zfTWlF"
      },
      "execution_count": null,
      "outputs": []
    },
    {
      "cell_type": "code",
      "source": [
        "precision_df_night = pd.DataFrame({\n",
        "    'precision' : [1.0,0.96,1.0,1.0,0.97],\n",
        "    'Models' : ['Logistic Regression','KNN','Random Forest','Decision Tree','SVM']\n",
        "    })\n",
        "print(precision_df_night)\n",
        "fig = px.bar(precision_df_night,x='Models',y='precision',text='precision',color='Models',color_discrete_sequence=px.colors.sequential.Turbo)\n",
        "fig.update_layout(font=dict(size=22))"
      ],
      "metadata": {
        "id": "2IvS7PaAT0Nb"
      },
      "execution_count": null,
      "outputs": []
    },
    {
      "cell_type": "code",
      "source": [
        "recall_df_night = pd.DataFrame({\n",
        "    'recall' : [0.94,0.92,1.0,1.0,0.92],\n",
        "    'Models' : ['Logistic Regression','KNN','Random Forest','Decision Tree','SVM']\n",
        "    })\n",
        "print(recall_df_night)\n",
        "fig = px.bar(recall_df_night,x='Models',y='recall',text='recall',color='Models',color_discrete_sequence=px.colors.sequential.Agsunset)\n",
        "fig.update_layout(font=dict(size=22))"
      ],
      "metadata": {
        "id": "QKore6rYUHKk"
      },
      "execution_count": null,
      "outputs": []
    },
    {
      "cell_type": "code",
      "source": [
        "f1_df = pd.DataFrame({\n",
        "    'f1' : [0.97,0.94,1.0,1.0,0.94],\n",
        "    'Models' : ['Logistic Regression','KNN','Random Forest','Decision Tree','SVM']\n",
        "    })\n",
        "print(f1_df)\n",
        "fig = px.bar(f1_df,x='Models',y='f1',text='f1',color='Models',color_discrete_sequence=px.colors.sequential.Tealgrn)\n",
        "fig.update_layout(font=dict(size=22))"
      ],
      "metadata": {
        "id": "wRZVBAieUdPt"
      },
      "execution_count": null,
      "outputs": []
    }
  ]
}